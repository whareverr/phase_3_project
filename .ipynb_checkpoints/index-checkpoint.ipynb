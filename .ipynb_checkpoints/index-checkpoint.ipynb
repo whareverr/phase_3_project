{
 "cells": [
  {
   "cell_type": "markdown",
   "id": "b0268fc9",
   "metadata": {},
   "source": [
    "## Final Project Submission\n",
    "\n",
    "Please fill out:\n",
    "* Student name: Muthuri Abigail Mwendwa\n",
    "* Student pace: Full time\n",
    "* Scheduled project review date/time: June 7th\n",
    "* Instructor name: Maryann Mwikali"
   ]
  },
  {
   "cell_type": "markdown",
   "id": "0bf2d23e",
   "metadata": {},
   "source": [
    "## DATA UNDERSTANDING & CLEANING"
   ]
  },
  {
   "cell_type": "markdown",
   "id": "9742d000",
   "metadata": {},
   "source": [
    "**Import Libraries**"
   ]
  },
  {
   "cell_type": "code",
   "execution_count": null,
   "id": "d622663a",
   "metadata": {},
   "outputs": [],
   "source": [
    "import pandas as pd\n",
    "import matplotlib.pyplot as plt\n",
    "import seaborn as sns\n",
    "\n",
    "#Import Numpy and the Pandas Package\n",
    "import numpy as np\n",
    "\n",
    "#Supress Warnings\n",
    "import warnings\n",
    "warnings.filterwarnings('ignore')\n",
    "\n",
    "#Import Train/Test libraries\n",
    "from sklearn.model_selection import train_test_split"
   ]
  },
  {
   "cell_type": "markdown",
   "id": "ce2108d4",
   "metadata": {},
   "source": [
    "**Read dataset**"
   ]
  },
  {
   "cell_type": "code",
   "execution_count": null,
   "id": "7b5d3636",
   "metadata": {},
   "outputs": [],
   "source": [
    "df = pd.read_csv(\"car_insurance_claim.csv\")\n",
    "df.head()"
   ]
  },
  {
   "cell_type": "code",
   "execution_count": null,
   "id": "34d6679e",
   "metadata": {},
   "outputs": [],
   "source": [
    "df.shape"
   ]
  },
  {
   "cell_type": "markdown",
   "id": "9adf425f",
   "metadata": {},
   "source": [
    "- The dataset has 10,302 rows and 27 columns"
   ]
  },
  {
   "cell_type": "code",
   "execution_count": null,
   "id": "ba7ff022",
   "metadata": {},
   "outputs": [],
   "source": [
    "df.info()"
   ]
  },
  {
   "cell_type": "markdown",
   "id": "b7406e90",
   "metadata": {},
   "source": [
    "- My dataset contains 3 data types : int, float, object\n",
    "- There are missing values in six columns "
   ]
  },
  {
   "cell_type": "code",
   "execution_count": null,
   "id": "5d7de5a8",
   "metadata": {},
   "outputs": [],
   "source": [
    "\n",
    "# Describe the columns\n",
    "column_names = [\n",
    "    \"ID\", \"KIDSDRIV\", \"BIRTH\", \"AGE\", \"HOMEKIDS\", \"YOJ\", \"INCOME\", \n",
    "    \"PARENT1\", \"HOME_VAL\", \"MSTATUS\", \"GENDER\", \"EDUCATION\", \n",
    "    \"OCCUPATION\", \"TRAVTIME\", \"CAR_USE\", \"BLUEBOOK\", \"TIF\", \"CAR_TYPE\", \n",
    "    \"RED_CAR\", \"OLDCLAIM\", \"CLM_FREQ\", \"REVOKED\", \"MVR_PTS\", \"CLM_AMT\", \n",
    "    \"CAR_AGE\", \"CLAIM_FLAG\", \"URBANICITY\"\n",
    "]\n",
    "\n",
    "column_descriptions = [\n",
    "    \"Unique identifier for each customer.\", \"Number of kids the customer has who are of driving age.\", \n",
    "    \"Date of birth of the customer.\", \"Age of the customer.\", \n",
    "    \"Number of kids the customer has at home.\", \"Years on the job (number of years the customer has been employed).\", \n",
    "    \"Income of the customer.\", \"Indicates whether the customer is a single parent (Yes/No).\", \n",
    "    \"Value of the customer's home.\", \"Marital status of the customer (Yes/No).\", \n",
    "    \"Gender of the customer (M/F).\", \"Education level of the customer.\", \n",
    "    \"Occupation of the customer.\", \"Daily travel time to work.\", \n",
    "    \"Purpose of car usage (Private/Commercial).\", \"Value of the customer's car.\", \n",
    "    \"Time in force (Years).\", \"Type of car.\", \"Indicates whether the customer owns a red car (yes/no).\", \n",
    "    \"Total amount of previous claims.\", \"Number of claims reported.\", \n",
    "    \"Indicates whether the customer's driver's license has been revoked (Yes/No).\", \n",
    "    \"Number of motor vehicle record points.\", \"Possible future claims\", \n",
    "    \"Age of the customer's car.\", \"Indicates whether a claim was filed (1/0).\", \n",
    "    \"Urbanicity type ((Highly Urban/Urban)/(Highly Rural/Rural)).\"\n",
    "]\n",
    "\n",
    "# Create a DataFrame\n",
    "data = {'Column Name': column_names, 'Description': column_descriptions}\n",
    "desc_df = pd.DataFrame(data)\n",
    "\n",
    "desc_df"
   ]
  },
  {
   "cell_type": "markdown",
   "id": "bfab4f0e",
   "metadata": {},
   "source": [
    "### **Cleaning Dataset**"
   ]
  },
  {
   "cell_type": "markdown",
   "id": "9a7d20f3",
   "metadata": {},
   "source": [
    "- Convert income and home value to numeric, removing the dollar sign and commas"
   ]
  },
  {
   "cell_type": "code",
   "execution_count": null,
   "id": "c7d8dde9",
   "metadata": {},
   "outputs": [],
   "source": [
    "df['INCOME'] = df['INCOME'].replace('[\\$,]', '', regex=True).astype(float)"
   ]
  },
  {
   "cell_type": "code",
   "execution_count": null,
   "id": "edfb369d",
   "metadata": {},
   "outputs": [],
   "source": [
    "df['HOME_VAL'] = df['HOME_VAL'].replace('[\\$,]', '', regex=True).astype(float)"
   ]
  },
  {
   "cell_type": "markdown",
   "id": "94a98f53",
   "metadata": {},
   "source": [
    "- Convert old claim and claim amount to numeric, removing the dollar sign and commas"
   ]
  },
  {
   "cell_type": "code",
   "execution_count": null,
   "id": "d2088edc",
   "metadata": {},
   "outputs": [],
   "source": [
    "df['OLDCLAIM'] = df['OLDCLAIM'].replace('[\\$,]', '', regex=True).astype(float)"
   ]
  },
  {
   "cell_type": "code",
   "execution_count": null,
   "id": "074007ea",
   "metadata": {},
   "outputs": [],
   "source": [
    "df['CLM_AMT'] = df['CLM_AMT'].replace('[\\$,]', '', regex=True).astype(float)"
   ]
  },
  {
   "cell_type": "markdown",
   "id": "6abf62ed",
   "metadata": {},
   "source": [
    "- Check for missing values"
   ]
  },
  {
   "cell_type": "code",
   "execution_count": null,
   "id": "46c0d0a0",
   "metadata": {},
   "outputs": [],
   "source": [
    "df.isna().sum()"
   ]
  },
  {
   "cell_type": "markdown",
   "id": "2ab22c3d",
   "metadata": {},
   "source": [
    "- Drop missing values"
   ]
  },
  {
   "cell_type": "code",
   "execution_count": null,
   "id": "40a2c36c",
   "metadata": {},
   "outputs": [],
   "source": [
    "df.dropna(inplace = True)"
   ]
  },
  {
   "cell_type": "markdown",
   "id": "d3843bdd",
   "metadata": {},
   "source": [
    "- Check if dataset has any more missing values"
   ]
  },
  {
   "cell_type": "code",
   "execution_count": null,
   "id": "1b0d11b0",
   "metadata": {},
   "outputs": [],
   "source": [
    "df.isna().sum()"
   ]
  },
  {
   "cell_type": "code",
   "execution_count": null,
   "id": "e0405f57",
   "metadata": {},
   "outputs": [],
   "source": []
  }
 ],
 "metadata": {
  "kernelspec": {
   "display_name": "Python (learn-env)",
   "language": "python",
   "name": "learn-env"
  },
  "language_info": {
   "codemirror_mode": {
    "name": "ipython",
    "version": 3
   },
   "file_extension": ".py",
   "mimetype": "text/x-python",
   "name": "python",
   "nbconvert_exporter": "python",
   "pygments_lexer": "ipython3",
   "version": "3.11.5"
  }
 },
 "nbformat": 4,
 "nbformat_minor": 5
}
