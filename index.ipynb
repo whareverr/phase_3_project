{
 "cells": [
  {
   "cell_type": "markdown",
   "id": "5659d4d0",
   "metadata": {},
   "source": [
    "## Final Project Submission\n",
    "\n",
    "Please fill out:\n",
    "* Student name: Muthuri Abigail Mwendwa\n",
    "* Student pace: Full time\n",
    "* Scheduled project review date/time: June 7th\n",
    "* Instructor name: Maryann Mwikali"
   ]
  },
  {
   "cell_type": "markdown",
   "id": "079b57d2",
   "metadata": {},
   "source": [
    "## DATA UNDERSTANDING & CLEANING"
   ]
  },
  {
   "cell_type": "markdown",
   "id": "4da45ee8",
   "metadata": {},
   "source": [
    "**Import Libraries**"
   ]
  },
  {
   "cell_type": "code",
   "execution_count": 1,
   "id": "a731ba52",
   "metadata": {},
   "outputs": [],
   "source": [
    "import pandas as pd\n",
    "import matplotlib.pyplot as plt\n",
    "import seaborn as sns\n",
    "\n",
    "#Import Numpy and the Pandas Package\n",
    "import numpy as np\n",
    "\n",
    "#Supress Warnings\n",
    "import warnings\n",
    "warnings.filterwarnings('ignore')\n",
    "\n",
    "#Import Train/Test libraries\n",
    "from sklearn.model_selection import train_test_split"
   ]
  },
  {
   "cell_type": "markdown",
   "id": "1e8ff11c",
   "metadata": {},
   "source": [
    "**Read dataset**"
   ]
  },
  {
   "cell_type": "code",
   "execution_count": 2,
   "id": "d8ca74e3",
   "metadata": {},
   "outputs": [
    {
     "data": {
      "text/html": [
       "<div>\n",
       "<style scoped>\n",
       "    .dataframe tbody tr th:only-of-type {\n",
       "        vertical-align: middle;\n",
       "    }\n",
       "\n",
       "    .dataframe tbody tr th {\n",
       "        vertical-align: top;\n",
       "    }\n",
       "\n",
       "    .dataframe thead th {\n",
       "        text-align: right;\n",
       "    }\n",
       "</style>\n",
       "<table border=\"1\" class=\"dataframe\">\n",
       "  <thead>\n",
       "    <tr style=\"text-align: right;\">\n",
       "      <th></th>\n",
       "      <th>ID</th>\n",
       "      <th>KIDSDRIV</th>\n",
       "      <th>BIRTH</th>\n",
       "      <th>AGE</th>\n",
       "      <th>HOMEKIDS</th>\n",
       "      <th>YOJ</th>\n",
       "      <th>INCOME</th>\n",
       "      <th>PARENT1</th>\n",
       "      <th>HOME_VAL</th>\n",
       "      <th>MSTATUS</th>\n",
       "      <th>...</th>\n",
       "      <th>CAR_TYPE</th>\n",
       "      <th>RED_CAR</th>\n",
       "      <th>OLDCLAIM</th>\n",
       "      <th>CLM_FREQ</th>\n",
       "      <th>REVOKED</th>\n",
       "      <th>MVR_PTS</th>\n",
       "      <th>CLM_AMT</th>\n",
       "      <th>CAR_AGE</th>\n",
       "      <th>CLAIM_FLAG</th>\n",
       "      <th>URBANICITY</th>\n",
       "    </tr>\n",
       "  </thead>\n",
       "  <tbody>\n",
       "    <tr>\n",
       "      <th>0</th>\n",
       "      <td>63581743</td>\n",
       "      <td>0</td>\n",
       "      <td>16MAR39</td>\n",
       "      <td>60.0</td>\n",
       "      <td>0</td>\n",
       "      <td>11.0</td>\n",
       "      <td>$67,349</td>\n",
       "      <td>No</td>\n",
       "      <td>$0</td>\n",
       "      <td>z_No</td>\n",
       "      <td>...</td>\n",
       "      <td>Minivan</td>\n",
       "      <td>yes</td>\n",
       "      <td>$4,461</td>\n",
       "      <td>2</td>\n",
       "      <td>No</td>\n",
       "      <td>3</td>\n",
       "      <td>$0</td>\n",
       "      <td>18.0</td>\n",
       "      <td>0</td>\n",
       "      <td>Highly Urban/ Urban</td>\n",
       "    </tr>\n",
       "    <tr>\n",
       "      <th>1</th>\n",
       "      <td>132761049</td>\n",
       "      <td>0</td>\n",
       "      <td>21JAN56</td>\n",
       "      <td>43.0</td>\n",
       "      <td>0</td>\n",
       "      <td>11.0</td>\n",
       "      <td>$91,449</td>\n",
       "      <td>No</td>\n",
       "      <td>$257,252</td>\n",
       "      <td>z_No</td>\n",
       "      <td>...</td>\n",
       "      <td>Minivan</td>\n",
       "      <td>yes</td>\n",
       "      <td>$0</td>\n",
       "      <td>0</td>\n",
       "      <td>No</td>\n",
       "      <td>0</td>\n",
       "      <td>$0</td>\n",
       "      <td>1.0</td>\n",
       "      <td>0</td>\n",
       "      <td>Highly Urban/ Urban</td>\n",
       "    </tr>\n",
       "    <tr>\n",
       "      <th>2</th>\n",
       "      <td>921317019</td>\n",
       "      <td>0</td>\n",
       "      <td>18NOV51</td>\n",
       "      <td>48.0</td>\n",
       "      <td>0</td>\n",
       "      <td>11.0</td>\n",
       "      <td>$52,881</td>\n",
       "      <td>No</td>\n",
       "      <td>$0</td>\n",
       "      <td>z_No</td>\n",
       "      <td>...</td>\n",
       "      <td>Van</td>\n",
       "      <td>yes</td>\n",
       "      <td>$0</td>\n",
       "      <td>0</td>\n",
       "      <td>No</td>\n",
       "      <td>2</td>\n",
       "      <td>$0</td>\n",
       "      <td>10.0</td>\n",
       "      <td>0</td>\n",
       "      <td>Highly Urban/ Urban</td>\n",
       "    </tr>\n",
       "    <tr>\n",
       "      <th>3</th>\n",
       "      <td>727598473</td>\n",
       "      <td>0</td>\n",
       "      <td>05MAR64</td>\n",
       "      <td>35.0</td>\n",
       "      <td>1</td>\n",
       "      <td>10.0</td>\n",
       "      <td>$16,039</td>\n",
       "      <td>No</td>\n",
       "      <td>$124,191</td>\n",
       "      <td>Yes</td>\n",
       "      <td>...</td>\n",
       "      <td>z_SUV</td>\n",
       "      <td>no</td>\n",
       "      <td>$38,690</td>\n",
       "      <td>2</td>\n",
       "      <td>No</td>\n",
       "      <td>3</td>\n",
       "      <td>$0</td>\n",
       "      <td>10.0</td>\n",
       "      <td>0</td>\n",
       "      <td>Highly Urban/ Urban</td>\n",
       "    </tr>\n",
       "    <tr>\n",
       "      <th>4</th>\n",
       "      <td>450221861</td>\n",
       "      <td>0</td>\n",
       "      <td>05JUN48</td>\n",
       "      <td>51.0</td>\n",
       "      <td>0</td>\n",
       "      <td>14.0</td>\n",
       "      <td>NaN</td>\n",
       "      <td>No</td>\n",
       "      <td>$306,251</td>\n",
       "      <td>Yes</td>\n",
       "      <td>...</td>\n",
       "      <td>Minivan</td>\n",
       "      <td>yes</td>\n",
       "      <td>$0</td>\n",
       "      <td>0</td>\n",
       "      <td>No</td>\n",
       "      <td>0</td>\n",
       "      <td>$0</td>\n",
       "      <td>6.0</td>\n",
       "      <td>0</td>\n",
       "      <td>Highly Urban/ Urban</td>\n",
       "    </tr>\n",
       "  </tbody>\n",
       "</table>\n",
       "<p>5 rows × 27 columns</p>\n",
       "</div>"
      ],
      "text/plain": [
       "          ID  KIDSDRIV    BIRTH   AGE  HOMEKIDS   YOJ   INCOME PARENT1  \\\n",
       "0   63581743         0  16MAR39  60.0         0  11.0  $67,349      No   \n",
       "1  132761049         0  21JAN56  43.0         0  11.0  $91,449      No   \n",
       "2  921317019         0  18NOV51  48.0         0  11.0  $52,881      No   \n",
       "3  727598473         0  05MAR64  35.0         1  10.0  $16,039      No   \n",
       "4  450221861         0  05JUN48  51.0         0  14.0      NaN      No   \n",
       "\n",
       "   HOME_VAL MSTATUS  ... CAR_TYPE RED_CAR OLDCLAIM  CLM_FREQ REVOKED MVR_PTS  \\\n",
       "0        $0    z_No  ...  Minivan     yes   $4,461         2      No       3   \n",
       "1  $257,252    z_No  ...  Minivan     yes       $0         0      No       0   \n",
       "2        $0    z_No  ...      Van     yes       $0         0      No       2   \n",
       "3  $124,191     Yes  ...    z_SUV      no  $38,690         2      No       3   \n",
       "4  $306,251     Yes  ...  Minivan     yes       $0         0      No       0   \n",
       "\n",
       "   CLM_AMT CAR_AGE CLAIM_FLAG           URBANICITY  \n",
       "0       $0    18.0          0  Highly Urban/ Urban  \n",
       "1       $0     1.0          0  Highly Urban/ Urban  \n",
       "2       $0    10.0          0  Highly Urban/ Urban  \n",
       "3       $0    10.0          0  Highly Urban/ Urban  \n",
       "4       $0     6.0          0  Highly Urban/ Urban  \n",
       "\n",
       "[5 rows x 27 columns]"
      ]
     },
     "execution_count": 2,
     "metadata": {},
     "output_type": "execute_result"
    }
   ],
   "source": [
    "df = pd.read_csv(\"car_insurance_claim.csv\")\n",
    "df.head()"
   ]
  },
  {
   "cell_type": "code",
   "execution_count": 3,
   "id": "dd74ff14",
   "metadata": {},
   "outputs": [
    {
     "data": {
      "text/plain": [
       "(10302, 27)"
      ]
     },
     "execution_count": 3,
     "metadata": {},
     "output_type": "execute_result"
    }
   ],
   "source": [
    "df.shape"
   ]
  },
  {
   "cell_type": "markdown",
   "id": "3d6fc4a1",
   "metadata": {},
   "source": [
    "- The dataset has 10,302 rows and 27 columns"
   ]
  },
  {
   "cell_type": "code",
   "execution_count": 4,
   "id": "6f10b404",
   "metadata": {},
   "outputs": [
    {
     "name": "stdout",
     "output_type": "stream",
     "text": [
      "<class 'pandas.core.frame.DataFrame'>\n",
      "RangeIndex: 10302 entries, 0 to 10301\n",
      "Data columns (total 27 columns):\n",
      " #   Column      Non-Null Count  Dtype  \n",
      "---  ------      --------------  -----  \n",
      " 0   ID          10302 non-null  int64  \n",
      " 1   KIDSDRIV    10302 non-null  int64  \n",
      " 2   BIRTH       10302 non-null  object \n",
      " 3   AGE         10295 non-null  float64\n",
      " 4   HOMEKIDS    10302 non-null  int64  \n",
      " 5   YOJ         9754 non-null   float64\n",
      " 6   INCOME      9732 non-null   object \n",
      " 7   PARENT1     10302 non-null  object \n",
      " 8   HOME_VAL    9727 non-null   object \n",
      " 9   MSTATUS     10302 non-null  object \n",
      " 10  GENDER      10302 non-null  object \n",
      " 11  EDUCATION   10302 non-null  object \n",
      " 12  OCCUPATION  9637 non-null   object \n",
      " 13  TRAVTIME    10302 non-null  int64  \n",
      " 14  CAR_USE     10302 non-null  object \n",
      " 15  BLUEBOOK    10302 non-null  object \n",
      " 16  TIF         10302 non-null  int64  \n",
      " 17  CAR_TYPE    10302 non-null  object \n",
      " 18  RED_CAR     10302 non-null  object \n",
      " 19  OLDCLAIM    10302 non-null  object \n",
      " 20  CLM_FREQ    10302 non-null  int64  \n",
      " 21  REVOKED     10302 non-null  object \n",
      " 22  MVR_PTS     10302 non-null  int64  \n",
      " 23  CLM_AMT     10302 non-null  object \n",
      " 24  CAR_AGE     9663 non-null   float64\n",
      " 25  CLAIM_FLAG  10302 non-null  int64  \n",
      " 26  URBANICITY  10302 non-null  object \n",
      "dtypes: float64(3), int64(8), object(16)\n",
      "memory usage: 2.1+ MB\n"
     ]
    }
   ],
   "source": [
    "df.info()"
   ]
  },
  {
   "cell_type": "markdown",
   "id": "a75ce2d5",
   "metadata": {},
   "source": [
    "- My dataset contains 3 data types : int, float, object\n",
    "- There are missing values in six columns "
   ]
  },
  {
   "cell_type": "code",
   "execution_count": 5,
   "id": "f41f35e0",
   "metadata": {},
   "outputs": [
    {
     "data": {
      "text/html": [
       "<div>\n",
       "<style scoped>\n",
       "    .dataframe tbody tr th:only-of-type {\n",
       "        vertical-align: middle;\n",
       "    }\n",
       "\n",
       "    .dataframe tbody tr th {\n",
       "        vertical-align: top;\n",
       "    }\n",
       "\n",
       "    .dataframe thead th {\n",
       "        text-align: right;\n",
       "    }\n",
       "</style>\n",
       "<table border=\"1\" class=\"dataframe\">\n",
       "  <thead>\n",
       "    <tr style=\"text-align: right;\">\n",
       "      <th></th>\n",
       "      <th>Column Name</th>\n",
       "      <th>Description</th>\n",
       "    </tr>\n",
       "  </thead>\n",
       "  <tbody>\n",
       "    <tr>\n",
       "      <th>0</th>\n",
       "      <td>ID</td>\n",
       "      <td>Unique identifier for each customer.</td>\n",
       "    </tr>\n",
       "    <tr>\n",
       "      <th>1</th>\n",
       "      <td>KIDSDRIV</td>\n",
       "      <td>Number of kids the customer has who are of dri...</td>\n",
       "    </tr>\n",
       "    <tr>\n",
       "      <th>2</th>\n",
       "      <td>BIRTH</td>\n",
       "      <td>Date of birth of the customer.</td>\n",
       "    </tr>\n",
       "    <tr>\n",
       "      <th>3</th>\n",
       "      <td>AGE</td>\n",
       "      <td>Age of the customer.</td>\n",
       "    </tr>\n",
       "    <tr>\n",
       "      <th>4</th>\n",
       "      <td>HOMEKIDS</td>\n",
       "      <td>Number of kids the customer has at home.</td>\n",
       "    </tr>\n",
       "    <tr>\n",
       "      <th>5</th>\n",
       "      <td>YOJ</td>\n",
       "      <td>Years on the job (number of years the customer...</td>\n",
       "    </tr>\n",
       "    <tr>\n",
       "      <th>6</th>\n",
       "      <td>INCOME</td>\n",
       "      <td>Income of the customer.</td>\n",
       "    </tr>\n",
       "    <tr>\n",
       "      <th>7</th>\n",
       "      <td>PARENT1</td>\n",
       "      <td>Indicates whether the customer is a single par...</td>\n",
       "    </tr>\n",
       "    <tr>\n",
       "      <th>8</th>\n",
       "      <td>HOME_VAL</td>\n",
       "      <td>Value of the customer's home.</td>\n",
       "    </tr>\n",
       "    <tr>\n",
       "      <th>9</th>\n",
       "      <td>MSTATUS</td>\n",
       "      <td>Marital status of the customer (Yes/No).</td>\n",
       "    </tr>\n",
       "    <tr>\n",
       "      <th>10</th>\n",
       "      <td>GENDER</td>\n",
       "      <td>Gender of the customer (M/F).</td>\n",
       "    </tr>\n",
       "    <tr>\n",
       "      <th>11</th>\n",
       "      <td>EDUCATION</td>\n",
       "      <td>Education level of the customer.</td>\n",
       "    </tr>\n",
       "    <tr>\n",
       "      <th>12</th>\n",
       "      <td>OCCUPATION</td>\n",
       "      <td>Occupation of the customer.</td>\n",
       "    </tr>\n",
       "    <tr>\n",
       "      <th>13</th>\n",
       "      <td>TRAVTIME</td>\n",
       "      <td>Daily travel time to work.</td>\n",
       "    </tr>\n",
       "    <tr>\n",
       "      <th>14</th>\n",
       "      <td>CAR_USE</td>\n",
       "      <td>Purpose of car usage (Private/Commercial).</td>\n",
       "    </tr>\n",
       "    <tr>\n",
       "      <th>15</th>\n",
       "      <td>BLUEBOOK</td>\n",
       "      <td>Value of the customer's car.</td>\n",
       "    </tr>\n",
       "    <tr>\n",
       "      <th>16</th>\n",
       "      <td>TIF</td>\n",
       "      <td>Time in force (Years).</td>\n",
       "    </tr>\n",
       "    <tr>\n",
       "      <th>17</th>\n",
       "      <td>CAR_TYPE</td>\n",
       "      <td>Type of car.</td>\n",
       "    </tr>\n",
       "    <tr>\n",
       "      <th>18</th>\n",
       "      <td>RED_CAR</td>\n",
       "      <td>Indicates whether the customer owns a red car ...</td>\n",
       "    </tr>\n",
       "    <tr>\n",
       "      <th>19</th>\n",
       "      <td>OLDCLAIM</td>\n",
       "      <td>Total amount of previous claims.</td>\n",
       "    </tr>\n",
       "    <tr>\n",
       "      <th>20</th>\n",
       "      <td>CLM_FREQ</td>\n",
       "      <td>Number of claims reported.</td>\n",
       "    </tr>\n",
       "    <tr>\n",
       "      <th>21</th>\n",
       "      <td>REVOKED</td>\n",
       "      <td>Indicates whether the customer's driver's lice...</td>\n",
       "    </tr>\n",
       "    <tr>\n",
       "      <th>22</th>\n",
       "      <td>MVR_PTS</td>\n",
       "      <td>Number of motor vehicle record points.</td>\n",
       "    </tr>\n",
       "    <tr>\n",
       "      <th>23</th>\n",
       "      <td>CLM_AMT</td>\n",
       "      <td>Possible future claims</td>\n",
       "    </tr>\n",
       "    <tr>\n",
       "      <th>24</th>\n",
       "      <td>CAR_AGE</td>\n",
       "      <td>Age of the customer's car.</td>\n",
       "    </tr>\n",
       "    <tr>\n",
       "      <th>25</th>\n",
       "      <td>CLAIM_FLAG</td>\n",
       "      <td>Indicates whether a claim was filed (1/0).</td>\n",
       "    </tr>\n",
       "    <tr>\n",
       "      <th>26</th>\n",
       "      <td>URBANICITY</td>\n",
       "      <td>Urbanicity type ((Highly Urban/Urban)/(Highly ...</td>\n",
       "    </tr>\n",
       "  </tbody>\n",
       "</table>\n",
       "</div>"
      ],
      "text/plain": [
       "   Column Name                                        Description\n",
       "0           ID               Unique identifier for each customer.\n",
       "1     KIDSDRIV  Number of kids the customer has who are of dri...\n",
       "2        BIRTH                     Date of birth of the customer.\n",
       "3          AGE                               Age of the customer.\n",
       "4     HOMEKIDS           Number of kids the customer has at home.\n",
       "5          YOJ  Years on the job (number of years the customer...\n",
       "6       INCOME                            Income of the customer.\n",
       "7      PARENT1  Indicates whether the customer is a single par...\n",
       "8     HOME_VAL                      Value of the customer's home.\n",
       "9      MSTATUS           Marital status of the customer (Yes/No).\n",
       "10      GENDER                      Gender of the customer (M/F).\n",
       "11   EDUCATION                   Education level of the customer.\n",
       "12  OCCUPATION                        Occupation of the customer.\n",
       "13    TRAVTIME                         Daily travel time to work.\n",
       "14     CAR_USE         Purpose of car usage (Private/Commercial).\n",
       "15    BLUEBOOK                       Value of the customer's car.\n",
       "16         TIF                             Time in force (Years).\n",
       "17    CAR_TYPE                                       Type of car.\n",
       "18     RED_CAR  Indicates whether the customer owns a red car ...\n",
       "19    OLDCLAIM                   Total amount of previous claims.\n",
       "20    CLM_FREQ                         Number of claims reported.\n",
       "21     REVOKED  Indicates whether the customer's driver's lice...\n",
       "22     MVR_PTS             Number of motor vehicle record points.\n",
       "23     CLM_AMT                             Possible future claims\n",
       "24     CAR_AGE                         Age of the customer's car.\n",
       "25  CLAIM_FLAG         Indicates whether a claim was filed (1/0).\n",
       "26  URBANICITY  Urbanicity type ((Highly Urban/Urban)/(Highly ..."
      ]
     },
     "execution_count": 5,
     "metadata": {},
     "output_type": "execute_result"
    }
   ],
   "source": [
    "\n",
    "# Describe the columns\n",
    "column_names = [\n",
    "    \"ID\", \"KIDSDRIV\", \"BIRTH\", \"AGE\", \"HOMEKIDS\", \"YOJ\", \"INCOME\", \n",
    "    \"PARENT1\", \"HOME_VAL\", \"MSTATUS\", \"GENDER\", \"EDUCATION\", \n",
    "    \"OCCUPATION\", \"TRAVTIME\", \"CAR_USE\", \"BLUEBOOK\", \"TIF\", \"CAR_TYPE\", \n",
    "    \"RED_CAR\", \"OLDCLAIM\", \"CLM_FREQ\", \"REVOKED\", \"MVR_PTS\", \"CLM_AMT\", \n",
    "    \"CAR_AGE\", \"CLAIM_FLAG\", \"URBANICITY\"\n",
    "]\n",
    "\n",
    "column_descriptions = [\n",
    "    \"Unique identifier for each customer.\", \"Number of kids the customer has who are of driving age.\", \n",
    "    \"Date of birth of the customer.\", \"Age of the customer.\", \n",
    "    \"Number of kids the customer has at home.\", \"Years on the job (number of years the customer has been employed).\", \n",
    "    \"Income of the customer.\", \"Indicates whether the customer is a single parent (Yes/No).\", \n",
    "    \"Value of the customer's home.\", \"Marital status of the customer (Yes/No).\", \n",
    "    \"Gender of the customer (M/F).\", \"Education level of the customer.\", \n",
    "    \"Occupation of the customer.\", \"Daily travel time to work.\", \n",
    "    \"Purpose of car usage (Private/Commercial).\", \"Value of the customer's car.\", \n",
    "    \"Time in force (Years).\", \"Type of car.\", \"Indicates whether the customer owns a red car (yes/no).\", \n",
    "    \"Total amount of previous claims.\", \"Number of claims reported.\", \n",
    "    \"Indicates whether the customer's driver's license has been revoked (Yes/No).\", \n",
    "    \"Number of motor vehicle record points.\", \"Possible future claims\", \n",
    "    \"Age of the customer's car.\", \"Indicates whether a claim was filed (1/0).\", \n",
    "    \"Urbanicity type ((Highly Urban/Urban)/(Highly Rural/Rural)).\"\n",
    "]\n",
    "\n",
    "# Create a DataFrame\n",
    "data = {'Column Name': column_names, 'Description': column_descriptions}\n",
    "desc_df = pd.DataFrame(data)\n",
    "\n",
    "desc_df"
   ]
  },
  {
   "cell_type": "markdown",
   "id": "e4c0c1ac",
   "metadata": {},
   "source": [
    "### **Cleaning Dataset**"
   ]
  },
  {
   "cell_type": "markdown",
   "id": "d017bdca",
   "metadata": {},
   "source": [
    "- Convert income and home value to numeric, removing the dollar sign and commas"
   ]
  },
  {
   "cell_type": "code",
   "execution_count": 6,
   "id": "0b0892e2",
   "metadata": {},
   "outputs": [],
   "source": [
    "df['INCOME'] = df['INCOME'].replace('[\\$,]', '', regex=True).astype(float)"
   ]
  },
  {
   "cell_type": "code",
   "execution_count": 7,
   "id": "157a04a2",
   "metadata": {},
   "outputs": [],
   "source": [
    "df['HOME_VAL'] = df['HOME_VAL'].replace('[\\$,]', '', regex=True).astype(float)"
   ]
  },
  {
   "cell_type": "markdown",
   "id": "806f5e97",
   "metadata": {},
   "source": [
    "- Convert old claim and claim amount to numeric, removing the dollar sign and commas"
   ]
  },
  {
   "cell_type": "code",
   "execution_count": 8,
   "id": "85417c4d",
   "metadata": {},
   "outputs": [],
   "source": [
    "df['OLDCLAIM'] = df['OLDCLAIM'].replace('[\\$,]', '', regex=True).astype(float)"
   ]
  },
  {
   "cell_type": "code",
   "execution_count": 9,
   "id": "d637077e",
   "metadata": {},
   "outputs": [],
   "source": [
    "df['CLM_AMT'] = df['CLM_AMT'].replace('[\\$,]', '', regex=True).astype(float)"
   ]
  },
  {
   "cell_type": "markdown",
   "id": "48ab84c1",
   "metadata": {},
   "source": [
    "- Check for missing values"
   ]
  },
  {
   "cell_type": "code",
   "execution_count": 10,
   "id": "2b4eb764",
   "metadata": {},
   "outputs": [
    {
     "data": {
      "text/plain": [
       "ID              0\n",
       "KIDSDRIV        0\n",
       "BIRTH           0\n",
       "AGE             7\n",
       "HOMEKIDS        0\n",
       "YOJ           548\n",
       "INCOME        570\n",
       "PARENT1         0\n",
       "HOME_VAL      575\n",
       "MSTATUS         0\n",
       "GENDER          0\n",
       "EDUCATION       0\n",
       "OCCUPATION    665\n",
       "TRAVTIME        0\n",
       "CAR_USE         0\n",
       "BLUEBOOK        0\n",
       "TIF             0\n",
       "CAR_TYPE        0\n",
       "RED_CAR         0\n",
       "OLDCLAIM        0\n",
       "CLM_FREQ        0\n",
       "REVOKED         0\n",
       "MVR_PTS         0\n",
       "CLM_AMT         0\n",
       "CAR_AGE       639\n",
       "CLAIM_FLAG      0\n",
       "URBANICITY      0\n",
       "dtype: int64"
      ]
     },
     "execution_count": 10,
     "metadata": {},
     "output_type": "execute_result"
    }
   ],
   "source": [
    "df.isna().sum()"
   ]
  },
  {
   "cell_type": "markdown",
   "id": "0c89dace",
   "metadata": {},
   "source": [
    "- Drop missing values"
   ]
  },
  {
   "cell_type": "code",
   "execution_count": 11,
   "id": "b7fcb7fe",
   "metadata": {},
   "outputs": [],
   "source": [
    "df.dropna(inplace = True)"
   ]
  },
  {
   "cell_type": "markdown",
   "id": "1bd70d4a",
   "metadata": {},
   "source": [
    "- Check for duplicates"
   ]
  },
  {
   "cell_type": "code",
   "execution_count": 12,
   "id": "202f0363",
   "metadata": {},
   "outputs": [
    {
     "data": {
      "text/html": [
       "<div>\n",
       "<style scoped>\n",
       "    .dataframe tbody tr th:only-of-type {\n",
       "        vertical-align: middle;\n",
       "    }\n",
       "\n",
       "    .dataframe tbody tr th {\n",
       "        vertical-align: top;\n",
       "    }\n",
       "\n",
       "    .dataframe thead th {\n",
       "        text-align: right;\n",
       "    }\n",
       "</style>\n",
       "<table border=\"1\" class=\"dataframe\">\n",
       "  <thead>\n",
       "    <tr style=\"text-align: right;\">\n",
       "      <th></th>\n",
       "      <th>ID</th>\n",
       "      <th>KIDSDRIV</th>\n",
       "      <th>BIRTH</th>\n",
       "      <th>AGE</th>\n",
       "      <th>HOMEKIDS</th>\n",
       "      <th>YOJ</th>\n",
       "      <th>INCOME</th>\n",
       "      <th>PARENT1</th>\n",
       "      <th>HOME_VAL</th>\n",
       "      <th>MSTATUS</th>\n",
       "      <th>...</th>\n",
       "      <th>CAR_TYPE</th>\n",
       "      <th>RED_CAR</th>\n",
       "      <th>OLDCLAIM</th>\n",
       "      <th>CLM_FREQ</th>\n",
       "      <th>REVOKED</th>\n",
       "      <th>MVR_PTS</th>\n",
       "      <th>CLM_AMT</th>\n",
       "      <th>CAR_AGE</th>\n",
       "      <th>CLAIM_FLAG</th>\n",
       "      <th>URBANICITY</th>\n",
       "    </tr>\n",
       "  </thead>\n",
       "  <tbody>\n",
       "    <tr>\n",
       "      <th>9801</th>\n",
       "      <td>279799481</td>\n",
       "      <td>0</td>\n",
       "      <td>21FEB60</td>\n",
       "      <td>39.0</td>\n",
       "      <td>0</td>\n",
       "      <td>14.0</td>\n",
       "      <td>93077.0</td>\n",
       "      <td>No</td>\n",
       "      <td>244764.0</td>\n",
       "      <td>Yes</td>\n",
       "      <td>...</td>\n",
       "      <td>Minivan</td>\n",
       "      <td>yes</td>\n",
       "      <td>0.0</td>\n",
       "      <td>0</td>\n",
       "      <td>No</td>\n",
       "      <td>0</td>\n",
       "      <td>0.0</td>\n",
       "      <td>1.0</td>\n",
       "      <td>0</td>\n",
       "      <td>z_Highly Rural/ Rural</td>\n",
       "    </tr>\n",
       "  </tbody>\n",
       "</table>\n",
       "<p>1 rows × 27 columns</p>\n",
       "</div>"
      ],
      "text/plain": [
       "             ID  KIDSDRIV    BIRTH   AGE  HOMEKIDS   YOJ   INCOME PARENT1  \\\n",
       "9801  279799481         0  21FEB60  39.0         0  14.0  93077.0      No   \n",
       "\n",
       "      HOME_VAL MSTATUS  ... CAR_TYPE RED_CAR OLDCLAIM  CLM_FREQ REVOKED  \\\n",
       "9801  244764.0     Yes  ...  Minivan     yes      0.0         0      No   \n",
       "\n",
       "     MVR_PTS  CLM_AMT CAR_AGE CLAIM_FLAG             URBANICITY  \n",
       "9801       0      0.0     1.0          0  z_Highly Rural/ Rural  \n",
       "\n",
       "[1 rows x 27 columns]"
      ]
     },
     "execution_count": 12,
     "metadata": {},
     "output_type": "execute_result"
    }
   ],
   "source": [
    "duplicates_with_rows = df[df.duplicated()]\n",
    "duplicates_with_rows"
   ]
  },
  {
   "cell_type": "code",
   "execution_count": 13,
   "id": "c088e3c2",
   "metadata": {},
   "outputs": [],
   "source": [
    "# Remove Duplicates\n",
    "df = df.drop_duplicates()"
   ]
  },
  {
   "cell_type": "markdown",
   "id": "177299ab",
   "metadata": {},
   "source": [
    "- Check if dataset has any more missing values"
   ]
  },
  {
   "cell_type": "code",
   "execution_count": 14,
   "id": "8fa22864",
   "metadata": {},
   "outputs": [
    {
     "data": {
      "text/plain": [
       "ID            0\n",
       "KIDSDRIV      0\n",
       "BIRTH         0\n",
       "AGE           0\n",
       "HOMEKIDS      0\n",
       "YOJ           0\n",
       "INCOME        0\n",
       "PARENT1       0\n",
       "HOME_VAL      0\n",
       "MSTATUS       0\n",
       "GENDER        0\n",
       "EDUCATION     0\n",
       "OCCUPATION    0\n",
       "TRAVTIME      0\n",
       "CAR_USE       0\n",
       "BLUEBOOK      0\n",
       "TIF           0\n",
       "CAR_TYPE      0\n",
       "RED_CAR       0\n",
       "OLDCLAIM      0\n",
       "CLM_FREQ      0\n",
       "REVOKED       0\n",
       "MVR_PTS       0\n",
       "CLM_AMT       0\n",
       "CAR_AGE       0\n",
       "CLAIM_FLAG    0\n",
       "URBANICITY    0\n",
       "dtype: int64"
      ]
     },
     "execution_count": 14,
     "metadata": {},
     "output_type": "execute_result"
    }
   ],
   "source": [
    "df.isna().sum()"
   ]
  },
  {
   "cell_type": "code",
   "execution_count": 15,
   "id": "a3acefda",
   "metadata": {},
   "outputs": [
    {
     "data": {
      "text/plain": [
       "(7656, 27)"
      ]
     },
     "execution_count": 15,
     "metadata": {},
     "output_type": "execute_result"
    }
   ],
   "source": [
    "df.shape"
   ]
  },
  {
   "cell_type": "markdown",
   "id": "01ee830b",
   "metadata": {},
   "source": [
    " - After cleaning, the dataset has 7656 rows and 27 columns"
   ]
  },
  {
   "cell_type": "code",
   "execution_count": null,
   "id": "a5aaa449",
   "metadata": {},
   "outputs": [],
   "source": []
  }
 ],
 "metadata": {
  "kernelspec": {
   "display_name": "Python (learn-env)",
   "language": "python",
   "name": "learn-env"
  },
  "language_info": {
   "codemirror_mode": {
    "name": "ipython",
    "version": 3
   },
   "file_extension": ".py",
   "mimetype": "text/x-python",
   "name": "python",
   "nbconvert_exporter": "python",
   "pygments_lexer": "ipython3",
   "version": "3.11.5"
  }
 },
 "nbformat": 4,
 "nbformat_minor": 5
}
